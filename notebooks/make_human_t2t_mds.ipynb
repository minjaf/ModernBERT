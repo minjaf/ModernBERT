{
 "cells": [
  {
   "cell_type": "code",
   "execution_count": 1,
   "metadata": {},
   "outputs": [],
   "source": [
    "%load_ext autoreload\n",
    "%autoreload 2"
   ]
  },
  {
   "cell_type": "code",
   "execution_count": 2,
   "metadata": {},
   "outputs": [],
   "source": [
    "from pathlib import Path\n",
    "import gzip\n",
    "from tqdm.auto import tqdm\n",
    "\n",
    "from Bio import Seq, SeqIO\n",
    "from Bio.SeqRecord import SeqRecord"
   ]
  },
  {
   "cell_type": "code",
   "execution_count": 3,
   "metadata": {},
   "outputs": [],
   "source": [
    "# https://www.ncbi.nlm.nih.gov/datasets/genome/GCF_009914755.1/\n",
    "fna_file = '/home/jovyan/data/T2T-CHM13v2.0/ncbi_dataset/data/GCF_009914755.1/GCF_009914755.1_T2T-CHM13v2.0_genomic.fna'"
   ]
  },
  {
   "cell_type": "code",
   "execution_count": 4,
   "metadata": {},
   "outputs": [],
   "source": [
    "min_len = 10000\n",
    "# chunk_len = (1024 * 8) * 8 * 2\n",
    "chunk_len = (1024 * 8) * 2"
   ]
  },
  {
   "cell_type": "code",
   "execution_count": 5,
   "metadata": {},
   "outputs": [
    {
     "data": {
      "application/vnd.jupyter.widget-view+json": {
       "model_id": "40920ec74de6412cab98c92ebdc6d987",
       "version_major": 2,
       "version_minor": 0
      },
      "text/plain": [
       "0it [00:00, ?it/s]"
      ]
     },
     "metadata": {},
     "output_type": "display_data"
    }
   ],
   "source": [
    "if fna_file.endswith(\".gz\"):\n",
    "    fasta_open = gzip.open\n",
    "else:\n",
    "    fasta_open = open\n",
    "\n",
    "chunks = []\n",
    "with fasta_open(fna_file,\"rt\") as fin:\n",
    "    for record in tqdm(SeqIO.parse(fin, \"fasta\")):\n",
    "        if (\"mitochondrion\" in record.description) or len(record) <= min_len:\n",
    "            continue\n",
    "\n",
    "        for i in range(0, len(record.seq), chunk_len):\n",
    "            chunk = record.seq[i:i+chunk_len]\n",
    "            if len(chunk) > min_len:\n",
    "                chunks.append({'text': str(chunk).upper()})"
   ]
  },
  {
   "cell_type": "code",
   "execution_count": 6,
   "metadata": {},
   "outputs": [
    {
     "data": {
      "text/plain": [
       "190259"
      ]
     },
     "execution_count": 6,
     "metadata": {},
     "output_type": "execute_result"
    }
   ],
   "source": [
    "len(chunks)"
   ]
  },
  {
   "cell_type": "code",
   "execution_count": 7,
   "metadata": {},
   "outputs": [],
   "source": [
    "train_chunks = chunks[:-5000]\n",
    "valid_chunks = chunks[-5000:]"
   ]
  },
  {
   "cell_type": "code",
   "execution_count": 8,
   "metadata": {},
   "outputs": [
    {
     "data": {
      "application/vnd.jupyter.widget-view+json": {
       "model_id": "8de84c98eca2406887c62d0b2c6015a2",
       "version_major": 2,
       "version_minor": 0
      },
      "text/plain": [
       "train:   0%|          | 0/185259 [00:00<?, ?it/s]"
      ]
     },
     "metadata": {},
     "output_type": "display_data"
    },
    {
     "data": {
      "application/vnd.jupyter.widget-view+json": {
       "model_id": "e2c76d84f4f34dc0a159a890572a77ed",
       "version_major": 2,
       "version_minor": 0
      },
      "text/plain": [
       "valid:   0%|          | 0/5000 [00:00<?, ?it/s]"
      ]
     },
     "metadata": {},
     "output_type": "display_data"
    }
   ],
   "source": [
    "from streaming import MDSWriter\n",
    "columns = {\"text\": \"str\"}\n",
    "for split_name, split_chunks in zip(['train', 'valid'], [train_chunks, valid_chunks]):\n",
    "    with MDSWriter(columns=columns, out=f'../human_t2t_1k/{split_name}', size_limit='64mb') as fout:\n",
    "        for sample in tqdm(split_chunks, total=len(split_chunks), desc=split_name):\n",
    "            fout.write(sample)"
   ]
  },
  {
   "cell_type": "code",
   "execution_count": null,
   "metadata": {},
   "outputs": [],
   "source": []
  }
 ],
 "metadata": {
  "kernelspec": {
   "display_name": "Python 3",
   "language": "python",
   "name": "python3"
  },
  "language_info": {
   "codemirror_mode": {
    "name": "ipython",
    "version": 3
   },
   "file_extension": ".py",
   "mimetype": "text/x-python",
   "name": "python",
   "nbconvert_exporter": "python",
   "pygments_lexer": "ipython3",
   "version": "3.11.9"
  }
 },
 "nbformat": 4,
 "nbformat_minor": 2
}
