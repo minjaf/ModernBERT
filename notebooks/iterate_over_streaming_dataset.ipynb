{
 "cells": [
  {
   "cell_type": "code",
   "execution_count": 1,
   "metadata": {},
   "outputs": [],
   "source": [
    "import random\n",
    "from streaming import StreamingDataset, StreamingDataLoader\n",
    "from tqdm.auto import tqdm"
   ]
  },
  {
   "cell_type": "code",
   "execution_count": 4,
   "metadata": {},
   "outputs": [
    {
     "name": "stderr",
     "output_type": "stream",
     "text": [
      "Because `predownload` was not specified, it will default to 8*batch_size if batch_size is not None, otherwise 64. Prior to Streaming v0.7.0, `predownload` defaulted to max(batch_size, 256 * batch_size // num_canonical_nodes).\n"
     ]
    }
   ],
   "source": [
    "device_train_microbatch_size = 32\n",
    "num_workers = 0\n",
    "\n",
    "d = StreamingDataset(local='../human_t2t_1k/train', batch_size=device_train_microbatch_size)\n",
    "dl = StreamingDataLoader(d, batch_size=device_train_microbatch_size, num_workers=num_workers)"
   ]
  },
  {
   "cell_type": "code",
   "execution_count": null,
   "metadata": {},
   "outputs": [],
   "source": [
    "for b in tqdm(dl):\n",
    "    ..."
   ]
  },
  {
   "cell_type": "code",
   "execution_count": 13,
   "metadata": {},
   "outputs": [
    {
     "data": {
      "text/plain": [
       "185259"
      ]
     },
     "execution_count": 13,
     "metadata": {},
     "output_type": "execute_result"
    }
   ],
   "source": [
    "dl.num_samples_yielded"
   ]
  },
  {
   "cell_type": "code",
   "execution_count": 15,
   "metadata": {},
   "outputs": [
    {
     "data": {
      "text/plain": [
       "7776"
      ]
     },
     "execution_count": 15,
     "metadata": {},
     "output_type": "execute_result"
    }
   ],
   "source": [
    "dl.num_samples_yielded"
   ]
  },
  {
   "cell_type": "code",
   "execution_count": null,
   "metadata": {},
   "outputs": [],
   "source": []
  },
  {
   "cell_type": "code",
   "execution_count": 2,
   "metadata": {},
   "outputs": [
    {
     "name": "stdout",
     "output_type": "stream",
     "text": [
      "{'feature': array([1., 1.], dtype=float32), 'class': 1}\n",
      "{'feature': array([2., 2.], dtype=float32), 'class': 2}\n",
      "{'feature': array([3., 3.], dtype=float32), 'class': 3}\n",
      "{'feature': array([4., 4.], dtype=float32), 'class': 4}\n",
      "{'feature': array([5., 5.], dtype=float32), 'class': 5}\n",
      "{'feature': array([6., 6.], dtype=float32), 'class': 6}\n",
      "{'feature': array([7., 7.], dtype=float32), 'class': 7}\n",
      "{'feature': array([8., 8.], dtype=float32), 'class': 8}\n",
      "{'feature': array([9., 9.], dtype=float32), 'class': 9}\n",
      "{'feature': array([10., 10.], dtype=float32), 'class': 10}\n",
      "{'feature': array([11., 11.], dtype=float32), 'class': 11}\n",
      "{'feature': array([12., 12.], dtype=float32), 'class': 12}\n",
      "{'feature': array([13., 13.], dtype=float32), 'class': 13}\n",
      "{'feature': array([14., 14.], dtype=float32), 'class': 14}\n",
      "{'feature': array([15., 15.], dtype=float32), 'class': 15}\n",
      "{'feature': array([16., 16.], dtype=float32), 'class': 16}\n",
      "{'feature': array([17., 17.], dtype=float32), 'class': 17}\n",
      "{'feature': array([18., 18.], dtype=float32), 'class': 18}\n",
      "{'feature': array([19., 19.], dtype=float32), 'class': 19}\n",
      "{'feature': array([20., 20.], dtype=float32), 'class': 20}\n",
      "{'feature': array([21., 21.], dtype=float32), 'class': 21}\n",
      "{'feature': array([22., 22.], dtype=float32), 'class': 22}\n",
      "{'feature': array([23., 23.], dtype=float32), 'class': 23}\n",
      "{'feature': array([24., 24.], dtype=float32), 'class': 24}\n",
      "{'feature': array([25., 25.], dtype=float32), 'class': 25}\n",
      "{'feature': array([26., 26.], dtype=float32), 'class': 26}\n",
      "{'feature': array([27., 27.], dtype=float32), 'class': 27}\n",
      "{'feature': array([28., 28.], dtype=float32), 'class': 28}\n",
      "{'feature': array([29., 29.], dtype=float32), 'class': 29}\n",
      "{'feature': array([30., 30.], dtype=float32), 'class': 30}\n",
      "{'feature': array([31., 31.], dtype=float32), 'class': 31}\n",
      "{'feature': array([32., 32.], dtype=float32), 'class': 32}\n"
     ]
    }
   ],
   "source": [
    "import numpy as np\n",
    "from streaming import MDSWriter\n",
    "\n",
    "# Directory in which to store the compressed output files\n",
    "data_dir = '../tmp_mds/'\n",
    "\n",
    "# A dictionary mapping input fields to their data types\n",
    "columns = {\n",
    "    'feature': 'ndarray',\n",
    "    'class': 'int'\n",
    "}\n",
    "\n",
    "# Save the samples as shards using MDSWriter\n",
    "with MDSWriter(out=data_dir, columns=columns) as out:\n",
    "    for i in range(32):\n",
    "        sample = {\n",
    "            'feature': np.array([i + 1, i + 1]).astype(np.float32),\n",
    "            'class': i + 1,\n",
    "        }\n",
    "        print(sample)\n",
    "        out.write(sample)"
   ]
  },
  {
   "cell_type": "code",
   "execution_count": null,
   "metadata": {},
   "outputs": [],
   "source": []
  }
 ],
 "metadata": {
  "kernelspec": {
   "display_name": "Python 3",
   "language": "python",
   "name": "python3"
  },
  "language_info": {
   "codemirror_mode": {
    "name": "ipython",
    "version": 3
   },
   "file_extension": ".py",
   "mimetype": "text/x-python",
   "name": "python",
   "nbconvert_exporter": "python",
   "pygments_lexer": "ipython3",
   "version": "3.11.9"
  }
 },
 "nbformat": 4,
 "nbformat_minor": 2
}
