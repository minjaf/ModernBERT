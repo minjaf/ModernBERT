{
 "cells": [
  {
   "cell_type": "code",
   "execution_count": null,
   "metadata": {},
   "outputs": [],
   "source": [
    "%load_ext autoreload\n",
    "%autoreload 2"
   ]
  },
  {
   "cell_type": "code",
   "execution_count": 4,
   "metadata": {},
   "outputs": [],
   "source": [
    "from Bio.Seq import Seq\n",
    "\n",
    "VOCAB = 'ATGCN-'\n",
    "# Define complement mapping as a str.maketrans() table for efficient translation\n",
    "COMPLEMENT_MAPPING = str.maketrans('ATGCN-', 'TACGN-')\n",
    "\n",
    "def reverse_complement(seq: str) -> str:\n",
    "    \"\"\"Return the reverse complement of a DNA sequence efficiently.\n",
    "    \n",
    "    Uses str.translate() with a pre-computed translation table for O(n) performance.\n",
    "    \n",
    "    Args:\n",
    "        seq: DNA sequence string containing A,T,G,C,N,-\n",
    "        \n",
    "    Returns:\n",
    "        Reverse complemented sequence\n",
    "    \"\"\"\n",
    "    return seq.translate(COMPLEMENT_MAPPING)[::-1]"
   ]
  },
  {
   "cell_type": "code",
   "execution_count": 46,
   "metadata": {},
   "outputs": [],
   "source": [
    "import random\n",
    "length = 10000\n",
    "s = ''.join(random.choice(VOCAB) for _ in range(length))"
   ]
  },
  {
   "cell_type": "code",
   "execution_count": 47,
   "metadata": {},
   "outputs": [
    {
     "name": "stdout",
     "output_type": "stream",
     "text": [
      "15.8 µs ± 342 ns per loop (mean ± std. dev. of 7 runs, 100,000 loops each)\n"
     ]
    }
   ],
   "source": [
    "%%timeit\n",
    "reverse_complement(s)"
   ]
  },
  {
   "cell_type": "code",
   "execution_count": 48,
   "metadata": {},
   "outputs": [
    {
     "name": "stdout",
     "output_type": "stream",
     "text": [
      "11.9 µs ± 215 ns per loop (mean ± std. dev. of 7 runs, 100,000 loops each)\n"
     ]
    }
   ],
   "source": [
    "%%timeit\n",
    "seq = Seq(s)\n",
    "seq = str(seq.reverse_complement())"
   ]
  },
  {
   "cell_type": "code",
   "execution_count": null,
   "metadata": {},
   "outputs": [],
   "source": []
  }
 ],
 "metadata": {
  "kernelspec": {
   "display_name": "Python 3",
   "language": "python",
   "name": "python3"
  },
  "language_info": {
   "codemirror_mode": {
    "name": "ipython",
    "version": 3
   },
   "file_extension": ".py",
   "mimetype": "text/x-python",
   "name": "python",
   "nbconvert_exporter": "python",
   "pygments_lexer": "ipython3",
   "version": "3.11.9"
  }
 },
 "nbformat": 4,
 "nbformat_minor": 2
}
